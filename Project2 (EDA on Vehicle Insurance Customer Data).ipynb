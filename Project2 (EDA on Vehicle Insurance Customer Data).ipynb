{
 "cells": [
  {
   "cell_type": "code",
   "execution_count": 1,
   "id": "78ccb8e2",
   "metadata": {},
   "outputs": [],
   "source": [
    "import pandas as pd\n",
    "import numpy as np"
   ]
  },
  {
   "cell_type": "code",
   "execution_count": 2,
   "id": "6c2a54db",
   "metadata": {},
   "outputs": [],
   "source": [
    "customer_details=pd.read_csv('customer_details.csv')\n",
    "customer_policy_details=pd.read_csv('customer_policy_details.csv')"
   ]
  },
  {
   "cell_type": "markdown",
   "id": "cba9a34e",
   "metadata": {},
   "source": [
    "# 1. Add the column names to both datasets:\n",
    "\n",
    "##  i. Column Name for customer details table:\n",
    "\n",
    "### customer_id, Gender, age,  driving licence present, region code, previously insured,  vehicle age, and vehicle damage."
   ]
  },
  {
   "cell_type": "code",
   "execution_count": 3,
   "id": "243534aa",
   "metadata": {},
   "outputs": [],
   "source": [
    "customer_details.rename({'0':'Customer_Id','1':'Gender','2':'Age','3':'Driving Licence Present','4':'Region Code','5':'Previously Insured','6':'Vehicle Age','7':'Vehicle Damage'},axis=1,inplace=True)"
   ]
  },
  {
   "cell_type": "code",
   "execution_count": 4,
   "id": "aff89ea6",
   "metadata": {},
   "outputs": [
    {
     "data": {
      "text/html": [
       "<div>\n",
       "<style scoped>\n",
       "    .dataframe tbody tr th:only-of-type {\n",
       "        vertical-align: middle;\n",
       "    }\n",
       "\n",
       "    .dataframe tbody tr th {\n",
       "        vertical-align: top;\n",
       "    }\n",
       "\n",
       "    .dataframe thead th {\n",
       "        text-align: right;\n",
       "    }\n",
       "</style>\n",
       "<table border=\"1\" class=\"dataframe\">\n",
       "  <thead>\n",
       "    <tr style=\"text-align: right;\">\n",
       "      <th></th>\n",
       "      <th>Customer_Id</th>\n",
       "      <th>Gender</th>\n",
       "      <th>Age</th>\n",
       "      <th>Driving Licence Present</th>\n",
       "      <th>Region Code</th>\n",
       "      <th>Previously Insured</th>\n",
       "      <th>Vehicle Age</th>\n",
       "      <th>Vehicle Damage</th>\n",
       "    </tr>\n",
       "  </thead>\n",
       "  <tbody>\n",
       "    <tr>\n",
       "      <th>0</th>\n",
       "      <td>1.0</td>\n",
       "      <td>Male</td>\n",
       "      <td>44.0</td>\n",
       "      <td>1.0</td>\n",
       "      <td>28.0</td>\n",
       "      <td>0.0</td>\n",
       "      <td>&gt; 2 Years</td>\n",
       "      <td>Yes</td>\n",
       "    </tr>\n",
       "    <tr>\n",
       "      <th>1</th>\n",
       "      <td>2.0</td>\n",
       "      <td>Male</td>\n",
       "      <td>76.0</td>\n",
       "      <td>1.0</td>\n",
       "      <td>3.0</td>\n",
       "      <td>0.0</td>\n",
       "      <td>1-2 Year</td>\n",
       "      <td>No</td>\n",
       "    </tr>\n",
       "    <tr>\n",
       "      <th>2</th>\n",
       "      <td>3.0</td>\n",
       "      <td>Male</td>\n",
       "      <td>47.0</td>\n",
       "      <td>1.0</td>\n",
       "      <td>28.0</td>\n",
       "      <td>0.0</td>\n",
       "      <td>&gt; 2 Years</td>\n",
       "      <td>Yes</td>\n",
       "    </tr>\n",
       "    <tr>\n",
       "      <th>3</th>\n",
       "      <td>4.0</td>\n",
       "      <td>Male</td>\n",
       "      <td>21.0</td>\n",
       "      <td>1.0</td>\n",
       "      <td>11.0</td>\n",
       "      <td>1.0</td>\n",
       "      <td>&lt; 1 Year</td>\n",
       "      <td>No</td>\n",
       "    </tr>\n",
       "    <tr>\n",
       "      <th>4</th>\n",
       "      <td>5.0</td>\n",
       "      <td>Female</td>\n",
       "      <td>29.0</td>\n",
       "      <td>1.0</td>\n",
       "      <td>41.0</td>\n",
       "      <td>1.0</td>\n",
       "      <td>&lt; 1 Year</td>\n",
       "      <td>No</td>\n",
       "    </tr>\n",
       "  </tbody>\n",
       "</table>\n",
       "</div>"
      ],
      "text/plain": [
       "   Customer_Id  Gender   Age  Driving Licence Present  Region Code  \\\n",
       "0          1.0    Male  44.0                      1.0         28.0   \n",
       "1          2.0    Male  76.0                      1.0          3.0   \n",
       "2          3.0    Male  47.0                      1.0         28.0   \n",
       "3          4.0    Male  21.0                      1.0         11.0   \n",
       "4          5.0  Female  29.0                      1.0         41.0   \n",
       "\n",
       "   Previously Insured Vehicle Age Vehicle Damage  \n",
       "0                 0.0   > 2 Years            Yes  \n",
       "1                 0.0    1-2 Year             No  \n",
       "2                 0.0   > 2 Years            Yes  \n",
       "3                 1.0    < 1 Year             No  \n",
       "4                 1.0    < 1 Year             No  "
      ]
     },
     "execution_count": 4,
     "metadata": {},
     "output_type": "execute_result"
    }
   ],
   "source": [
    "customer_details.head()"
   ]
  },
  {
   "cell_type": "markdown",
   "id": "de4e2b56",
   "metadata": {},
   "source": [
    "## ii. Column Name for customer_policy table:\n",
    "### customer_id,  annual premium (in Rs),  sales channel code,  vintage, and  response. "
   ]
  },
  {
   "cell_type": "code",
   "execution_count": 5,
   "id": "e885a186",
   "metadata": {},
   "outputs": [],
   "source": [
    "customer_policy_details.rename({'0':'Customer_Id','1':'Annual Premium(Rs)','2':'Sales Channel Code','3':'Vintage','4':'Response'},axis=1,inplace=True)"
   ]
  },
  {
   "cell_type": "code",
   "execution_count": 6,
   "id": "6ae4e700",
   "metadata": {},
   "outputs": [
    {
     "data": {
      "text/html": [
       "<div>\n",
       "<style scoped>\n",
       "    .dataframe tbody tr th:only-of-type {\n",
       "        vertical-align: middle;\n",
       "    }\n",
       "\n",
       "    .dataframe tbody tr th {\n",
       "        vertical-align: top;\n",
       "    }\n",
       "\n",
       "    .dataframe thead th {\n",
       "        text-align: right;\n",
       "    }\n",
       "</style>\n",
       "<table border=\"1\" class=\"dataframe\">\n",
       "  <thead>\n",
       "    <tr style=\"text-align: right;\">\n",
       "      <th></th>\n",
       "      <th>Customer_Id</th>\n",
       "      <th>Annual Premium(Rs)</th>\n",
       "      <th>Sales Channel Code</th>\n",
       "      <th>Vintage</th>\n",
       "      <th>Response</th>\n",
       "    </tr>\n",
       "  </thead>\n",
       "  <tbody>\n",
       "    <tr>\n",
       "      <th>0</th>\n",
       "      <td>1.0</td>\n",
       "      <td>40454.0</td>\n",
       "      <td>26.0</td>\n",
       "      <td>217.0</td>\n",
       "      <td>1.0</td>\n",
       "    </tr>\n",
       "    <tr>\n",
       "      <th>1</th>\n",
       "      <td>2.0</td>\n",
       "      <td>33536.0</td>\n",
       "      <td>26.0</td>\n",
       "      <td>183.0</td>\n",
       "      <td>0.0</td>\n",
       "    </tr>\n",
       "    <tr>\n",
       "      <th>2</th>\n",
       "      <td>3.0</td>\n",
       "      <td>38294.0</td>\n",
       "      <td>26.0</td>\n",
       "      <td>27.0</td>\n",
       "      <td>1.0</td>\n",
       "    </tr>\n",
       "    <tr>\n",
       "      <th>3</th>\n",
       "      <td>4.0</td>\n",
       "      <td>28619.0</td>\n",
       "      <td>152.0</td>\n",
       "      <td>203.0</td>\n",
       "      <td>0.0</td>\n",
       "    </tr>\n",
       "    <tr>\n",
       "      <th>4</th>\n",
       "      <td>5.0</td>\n",
       "      <td>27496.0</td>\n",
       "      <td>152.0</td>\n",
       "      <td>39.0</td>\n",
       "      <td>0.0</td>\n",
       "    </tr>\n",
       "  </tbody>\n",
       "</table>\n",
       "</div>"
      ],
      "text/plain": [
       "   Customer_Id  Annual Premium(Rs)  Sales Channel Code  Vintage  Response\n",
       "0          1.0             40454.0                26.0    217.0       1.0\n",
       "1          2.0             33536.0                26.0    183.0       0.0\n",
       "2          3.0             38294.0                26.0     27.0       1.0\n",
       "3          4.0             28619.0               152.0    203.0       0.0\n",
       "4          5.0             27496.0               152.0     39.0       0.0"
      ]
     },
     "execution_count": 6,
     "metadata": {},
     "output_type": "execute_result"
    }
   ],
   "source": [
    "customer_policy_details.head()"
   ]
  },
  {
   "cell_type": "markdown",
   "id": "0a2c39e9",
   "metadata": {},
   "source": [
    "# 2. Checking and Cleaning Data Quality:\n",
    "\n",
    "## i. Null values\n",
    "\n",
    "### Generate a summary of count of all the null values column wise\n"
   ]
  },
  {
   "cell_type": "code",
   "execution_count": 7,
   "id": "37572306",
   "metadata": {},
   "outputs": [
    {
     "data": {
      "text/plain": [
       "Customer_Id                386\n",
       "Gender                     368\n",
       "Age                        368\n",
       "Driving Licence Present    393\n",
       "Region Code                392\n",
       "Previously Insured         381\n",
       "Vehicle Age                381\n",
       "Vehicle Damage             407\n",
       "dtype: int64"
      ]
     },
     "execution_count": 7,
     "metadata": {},
     "output_type": "execute_result"
    }
   ],
   "source": [
    "customer_details.isna().sum()"
   ]
  },
  {
   "cell_type": "code",
   "execution_count": 8,
   "id": "bc6a5bf4",
   "metadata": {},
   "outputs": [
    {
     "data": {
      "text/plain": [
       "Customer_Id           387\n",
       "Annual Premium(Rs)    346\n",
       "Sales Channel Code    400\n",
       "Vintage               388\n",
       "Response              361\n",
       "dtype: int64"
      ]
     },
     "execution_count": 8,
     "metadata": {},
     "output_type": "execute_result"
    }
   ],
   "source": [
    "customer_policy_details.isna().sum()"
   ]
  },
  {
   "cell_type": "markdown",
   "id": "321834f9",
   "metadata": {},
   "source": [
    "### Drop Null values for customer_id because central tendencies for id’s is not feasible.\n"
   ]
  },
  {
   "cell_type": "code",
   "execution_count": 9,
   "id": "cf95f78f",
   "metadata": {},
   "outputs": [],
   "source": [
    "customer_details=customer_details.dropna(subset=['Customer_Id'])"
   ]
  },
  {
   "cell_type": "code",
   "execution_count": 10,
   "id": "97099b5a",
   "metadata": {},
   "outputs": [
    {
     "data": {
      "text/plain": [
       "Customer_Id                  0\n",
       "Gender                     368\n",
       "Age                        366\n",
       "Driving Licence Present    392\n",
       "Region Code                391\n",
       "Previously Insured         381\n",
       "Vehicle Age                381\n",
       "Vehicle Damage             406\n",
       "dtype: int64"
      ]
     },
     "execution_count": 10,
     "metadata": {},
     "output_type": "execute_result"
    }
   ],
   "source": [
    "customer_details.isna().sum()"
   ]
  },
  {
   "cell_type": "code",
   "execution_count": 11,
   "id": "0703878a",
   "metadata": {},
   "outputs": [],
   "source": [
    "customer_policy_details=customer_policy_details.dropna(subset=['Customer_Id'])"
   ]
  },
  {
   "cell_type": "code",
   "execution_count": 12,
   "id": "102103c2",
   "metadata": {},
   "outputs": [
    {
     "data": {
      "text/plain": [
       "Customer_Id             0\n",
       "Annual Premium(Rs)    344\n",
       "Sales Channel Code    400\n",
       "Vintage               388\n",
       "Response              361\n",
       "dtype: int64"
      ]
     },
     "execution_count": 12,
     "metadata": {},
     "output_type": "execute_result"
    }
   ],
   "source": [
    "customer_policy_details.isna().sum()"
   ]
  },
  {
   "cell_type": "markdown",
   "id": "59f757ed",
   "metadata": {},
   "source": [
    "### Replace all null values for numeric columns by mean. \n"
   ]
  },
  {
   "cell_type": "code",
   "execution_count": 13,
   "id": "5072ce51",
   "metadata": {},
   "outputs": [],
   "source": [
    "customer_policy_details.fillna(customer_policy_details.mean().mean(),inplace=True)"
   ]
  },
  {
   "cell_type": "code",
   "execution_count": 14,
   "id": "140c6362",
   "metadata": {},
   "outputs": [
    {
     "data": {
      "text/plain": [
       "Customer_Id           0\n",
       "Annual Premium(Rs)    0\n",
       "Sales Channel Code    0\n",
       "Vintage               0\n",
       "Response              0\n",
       "dtype: int64"
      ]
     },
     "execution_count": 14,
     "metadata": {},
     "output_type": "execute_result"
    }
   ],
   "source": [
    "customer_policy_details.isna().sum()"
   ]
  },
  {
   "cell_type": "code",
   "execution_count": 15,
   "id": "377fe641",
   "metadata": {},
   "outputs": [
    {
     "data": {
      "text/plain": [
       "Customer_Id                  0\n",
       "Gender                     368\n",
       "Age                        366\n",
       "Driving Licence Present    392\n",
       "Region Code                391\n",
       "Previously Insured         381\n",
       "Vehicle Age                381\n",
       "Vehicle Damage             406\n",
       "dtype: int64"
      ]
     },
     "execution_count": 15,
     "metadata": {},
     "output_type": "execute_result"
    }
   ],
   "source": [
    "customer_details.isna().sum()"
   ]
  },
  {
   "cell_type": "markdown",
   "id": "312cdb45",
   "metadata": {},
   "source": [
    "### Replace all null values for Categorical value by mode."
   ]
  },
  {
   "cell_type": "code",
   "execution_count": 16,
   "id": "5b26ca78",
   "metadata": {},
   "outputs": [],
   "source": [
    "customer_details['Gender']=customer_details['Gender'].fillna(customer_details['Gender'].mode()[0])\n",
    "customer_details['Age']=customer_details['Age'].fillna(customer_details['Age'].mode()[0])\n",
    "customer_details['Driving Licence Present']=customer_details['Driving Licence Present'].fillna(customer_details['Driving Licence Present'].mode()[0])\n",
    "customer_details['Region Code']=customer_details['Region Code'].fillna(customer_details['Region Code'].mode()[0])\n",
    "customer_details['Previously Insured']=customer_details['Previously Insured'].fillna(customer_details['Previously Insured'].mode()[0])\n",
    "customer_details['Vehicle Age']=customer_details['Vehicle Age'].fillna(customer_details['Vehicle Age'].mode()[0])\n",
    "customer_details['Vehicle Damage']=customer_details['Vehicle Damage'].fillna(customer_details['Vehicle Damage'].mode()[0])"
   ]
  },
  {
   "cell_type": "code",
   "execution_count": 17,
   "id": "9aab85f4",
   "metadata": {},
   "outputs": [
    {
     "data": {
      "text/plain": [
       "Customer_Id                0\n",
       "Gender                     0\n",
       "Age                        0\n",
       "Driving Licence Present    0\n",
       "Region Code                0\n",
       "Previously Insured         0\n",
       "Vehicle Age                0\n",
       "Vehicle Damage             0\n",
       "dtype: int64"
      ]
     },
     "execution_count": 17,
     "metadata": {},
     "output_type": "execute_result"
    }
   ],
   "source": [
    "customer_details.isnull().sum()"
   ]
  },
  {
   "cell_type": "code",
   "execution_count": 18,
   "id": "55ff4eff",
   "metadata": {},
   "outputs": [
    {
     "name": "stdout",
     "output_type": "stream",
     "text": [
      "<class 'pandas.core.frame.DataFrame'>\n",
      "Int64Index: 380723 entries, 0 to 381108\n",
      "Data columns (total 8 columns):\n",
      " #   Column                   Non-Null Count   Dtype  \n",
      "---  ------                   --------------   -----  \n",
      " 0   Customer_Id              380723 non-null  float64\n",
      " 1   Gender                   380723 non-null  object \n",
      " 2   Age                      380723 non-null  float64\n",
      " 3   Driving Licence Present  380723 non-null  float64\n",
      " 4   Region Code              380723 non-null  float64\n",
      " 5   Previously Insured       380723 non-null  float64\n",
      " 6   Vehicle Age              380723 non-null  object \n",
      " 7   Vehicle Damage           380723 non-null  object \n",
      "dtypes: float64(5), object(3)\n",
      "memory usage: 26.1+ MB\n"
     ]
    }
   ],
   "source": [
    "customer_details.info()"
   ]
  },
  {
   "cell_type": "markdown",
   "id": "122e03e5",
   "metadata": {},
   "source": [
    "## ii. Outliers\n",
    "\n",
    "### Generate a summary of count of all the outliers column wise\n",
    "\n",
    "### (Hint1: for outlier treatment use IQR method as follows:\n",
    "\n",
    "### For example: for a column X calculate Q1 = 25th percentile and Q3 = 75th percentile then IQR = Q3 – Q1 ) then to check outlier, anything lower than a Q1 – 1.5IQR or greater than Q3 + 1.5 IQR would be an outlier\n",
    "\n",
    "### Hint2: For getting percentile value, explore pd.describe() function)"
   ]
  },
  {
   "cell_type": "code",
   "execution_count": 19,
   "id": "918df32d",
   "metadata": {},
   "outputs": [
    {
     "data": {
      "text/html": [
       "<div>\n",
       "<style scoped>\n",
       "    .dataframe tbody tr th:only-of-type {\n",
       "        vertical-align: middle;\n",
       "    }\n",
       "\n",
       "    .dataframe tbody tr th {\n",
       "        vertical-align: top;\n",
       "    }\n",
       "\n",
       "    .dataframe thead th {\n",
       "        text-align: right;\n",
       "    }\n",
       "</style>\n",
       "<table border=\"1\" class=\"dataframe\">\n",
       "  <thead>\n",
       "    <tr style=\"text-align: right;\">\n",
       "      <th></th>\n",
       "      <th>Customer_Id</th>\n",
       "      <th>Age</th>\n",
       "      <th>Driving Licence Present</th>\n",
       "      <th>Region Code</th>\n",
       "      <th>Previously Insured</th>\n",
       "    </tr>\n",
       "  </thead>\n",
       "  <tbody>\n",
       "    <tr>\n",
       "      <th>count</th>\n",
       "      <td>380723.000000</td>\n",
       "      <td>380723.000000</td>\n",
       "      <td>380723.000000</td>\n",
       "      <td>380723.000000</td>\n",
       "      <td>380723.000000</td>\n",
       "    </tr>\n",
       "    <tr>\n",
       "      <th>mean</th>\n",
       "      <td>190548.776244</td>\n",
       "      <td>38.808538</td>\n",
       "      <td>0.997870</td>\n",
       "      <td>26.391090</td>\n",
       "      <td>0.457800</td>\n",
       "    </tr>\n",
       "    <tr>\n",
       "      <th>std</th>\n",
       "      <td>110016.805160</td>\n",
       "      <td>15.511629</td>\n",
       "      <td>0.046105</td>\n",
       "      <td>13.223772</td>\n",
       "      <td>0.498217</td>\n",
       "    </tr>\n",
       "    <tr>\n",
       "      <th>min</th>\n",
       "      <td>1.000000</td>\n",
       "      <td>20.000000</td>\n",
       "      <td>0.000000</td>\n",
       "      <td>0.000000</td>\n",
       "      <td>0.000000</td>\n",
       "    </tr>\n",
       "    <tr>\n",
       "      <th>25%</th>\n",
       "      <td>95269.500000</td>\n",
       "      <td>25.000000</td>\n",
       "      <td>1.000000</td>\n",
       "      <td>15.000000</td>\n",
       "      <td>0.000000</td>\n",
       "    </tr>\n",
       "    <tr>\n",
       "      <th>50%</th>\n",
       "      <td>190543.000000</td>\n",
       "      <td>36.000000</td>\n",
       "      <td>1.000000</td>\n",
       "      <td>28.000000</td>\n",
       "      <td>0.000000</td>\n",
       "    </tr>\n",
       "    <tr>\n",
       "      <th>75%</th>\n",
       "      <td>285822.500000</td>\n",
       "      <td>49.000000</td>\n",
       "      <td>1.000000</td>\n",
       "      <td>35.000000</td>\n",
       "      <td>1.000000</td>\n",
       "    </tr>\n",
       "    <tr>\n",
       "      <th>max</th>\n",
       "      <td>381109.000000</td>\n",
       "      <td>85.000000</td>\n",
       "      <td>1.000000</td>\n",
       "      <td>52.000000</td>\n",
       "      <td>1.000000</td>\n",
       "    </tr>\n",
       "  </tbody>\n",
       "</table>\n",
       "</div>"
      ],
      "text/plain": [
       "         Customer_Id            Age  Driving Licence Present    Region Code  \\\n",
       "count  380723.000000  380723.000000            380723.000000  380723.000000   \n",
       "mean   190548.776244      38.808538                 0.997870      26.391090   \n",
       "std    110016.805160      15.511629                 0.046105      13.223772   \n",
       "min         1.000000      20.000000                 0.000000       0.000000   \n",
       "25%     95269.500000      25.000000                 1.000000      15.000000   \n",
       "50%    190543.000000      36.000000                 1.000000      28.000000   \n",
       "75%    285822.500000      49.000000                 1.000000      35.000000   \n",
       "max    381109.000000      85.000000                 1.000000      52.000000   \n",
       "\n",
       "       Previously Insured  \n",
       "count       380723.000000  \n",
       "mean             0.457800  \n",
       "std              0.498217  \n",
       "min              0.000000  \n",
       "25%              0.000000  \n",
       "50%              0.000000  \n",
       "75%              1.000000  \n",
       "max              1.000000  "
      ]
     },
     "execution_count": 19,
     "metadata": {},
     "output_type": "execute_result"
    }
   ],
   "source": [
    "customer_details.describe()"
   ]
  },
  {
   "cell_type": "code",
   "execution_count": 20,
   "id": "7aafa35f",
   "metadata": {},
   "outputs": [
    {
     "data": {
      "text/html": [
       "<div>\n",
       "<style scoped>\n",
       "    .dataframe tbody tr th:only-of-type {\n",
       "        vertical-align: middle;\n",
       "    }\n",
       "\n",
       "    .dataframe tbody tr th {\n",
       "        vertical-align: top;\n",
       "    }\n",
       "\n",
       "    .dataframe thead th {\n",
       "        text-align: right;\n",
       "    }\n",
       "</style>\n",
       "<table border=\"1\" class=\"dataframe\">\n",
       "  <thead>\n",
       "    <tr style=\"text-align: right;\">\n",
       "      <th></th>\n",
       "      <th>Customer_Id</th>\n",
       "      <th>Annual Premium(Rs)</th>\n",
       "      <th>Sales Channel Code</th>\n",
       "      <th>Vintage</th>\n",
       "      <th>Response</th>\n",
       "    </tr>\n",
       "  </thead>\n",
       "  <tbody>\n",
       "    <tr>\n",
       "      <th>count</th>\n",
       "      <td>380722.000000</td>\n",
       "      <td>380722.000000</td>\n",
       "      <td>380722.000000</td>\n",
       "      <td>380722.000000</td>\n",
       "      <td>380722.000000</td>\n",
       "    </tr>\n",
       "    <tr>\n",
       "      <th>mean</th>\n",
       "      <td>190547.491663</td>\n",
       "      <td>30576.388841</td>\n",
       "      <td>158.436489</td>\n",
       "      <td>199.311880</td>\n",
       "      <td>42.104463</td>\n",
       "    </tr>\n",
       "    <tr>\n",
       "      <th>std</th>\n",
       "      <td>110013.824148</td>\n",
       "      <td>17195.083416</td>\n",
       "      <td>1431.770977</td>\n",
       "      <td>1410.274933</td>\n",
       "      <td>1362.722574</td>\n",
       "    </tr>\n",
       "    <tr>\n",
       "      <th>min</th>\n",
       "      <td>1.000000</td>\n",
       "      <td>2630.000000</td>\n",
       "      <td>1.000000</td>\n",
       "      <td>10.000000</td>\n",
       "      <td>0.000000</td>\n",
       "    </tr>\n",
       "    <tr>\n",
       "      <th>25%</th>\n",
       "      <td>95276.250000</td>\n",
       "      <td>24416.000000</td>\n",
       "      <td>29.000000</td>\n",
       "      <td>82.000000</td>\n",
       "      <td>0.000000</td>\n",
       "    </tr>\n",
       "    <tr>\n",
       "      <th>50%</th>\n",
       "      <td>190536.500000</td>\n",
       "      <td>31680.000000</td>\n",
       "      <td>136.000000</td>\n",
       "      <td>154.000000</td>\n",
       "      <td>0.000000</td>\n",
       "    </tr>\n",
       "    <tr>\n",
       "      <th>75%</th>\n",
       "      <td>285818.750000</td>\n",
       "      <td>39430.000000</td>\n",
       "      <td>152.000000</td>\n",
       "      <td>227.000000</td>\n",
       "      <td>0.000000</td>\n",
       "    </tr>\n",
       "    <tr>\n",
       "      <th>max</th>\n",
       "      <td>381109.000000</td>\n",
       "      <td>540165.000000</td>\n",
       "      <td>44275.599568</td>\n",
       "      <td>44275.599568</td>\n",
       "      <td>44275.599568</td>\n",
       "    </tr>\n",
       "  </tbody>\n",
       "</table>\n",
       "</div>"
      ],
      "text/plain": [
       "         Customer_Id  Annual Premium(Rs)  Sales Channel Code        Vintage  \\\n",
       "count  380722.000000       380722.000000       380722.000000  380722.000000   \n",
       "mean   190547.491663        30576.388841          158.436489     199.311880   \n",
       "std    110013.824148        17195.083416         1431.770977    1410.274933   \n",
       "min         1.000000         2630.000000            1.000000      10.000000   \n",
       "25%     95276.250000        24416.000000           29.000000      82.000000   \n",
       "50%    190536.500000        31680.000000          136.000000     154.000000   \n",
       "75%    285818.750000        39430.000000          152.000000     227.000000   \n",
       "max    381109.000000       540165.000000        44275.599568   44275.599568   \n",
       "\n",
       "            Response  \n",
       "count  380722.000000  \n",
       "mean       42.104463  \n",
       "std      1362.722574  \n",
       "min         0.000000  \n",
       "25%         0.000000  \n",
       "50%         0.000000  \n",
       "75%         0.000000  \n",
       "max     44275.599568  "
      ]
     },
     "execution_count": 20,
     "metadata": {},
     "output_type": "execute_result"
    }
   ],
   "source": [
    "customer_policy_details.describe()"
   ]
  },
  {
   "cell_type": "code",
   "execution_count": 21,
   "id": "6ea77ddd",
   "metadata": {},
   "outputs": [
    {
     "data": {
      "text/plain": [
       "Customer_Id               0\n",
       "Annual Premium(Rs)    10239\n",
       "Sales Channel Code      400\n",
       "Vintage                 388\n",
       "Response              46965\n",
       "dtype: int64"
      ]
     },
     "execution_count": 21,
     "metadata": {},
     "output_type": "execute_result"
    }
   ],
   "source": [
    "q1=customer_policy_details.quantile(0.25)\n",
    "q3=customer_policy_details.quantile(0.75)\n",
    "iqr=q3-q1\n",
    "l=q1-(1.5*iqr)\n",
    "u=q3+(1.5*iqr)\n",
    "((customer_policy_details<l)|(customer_policy_details>u)).sum()"
   ]
  },
  {
   "cell_type": "markdown",
   "id": "28587e06",
   "metadata": {},
   "source": [
    "### Replace all outlier values for numeric columns by mean. "
   ]
  },
  {
   "cell_type": "code",
   "execution_count": 22,
   "id": "6d8723f4",
   "metadata": {},
   "outputs": [],
   "source": [
    "customer_policy_details['Annual Premium(Rs)']=customer_policy_details['Annual Premium(Rs)'].astype('float')"
   ]
  },
  {
   "cell_type": "code",
   "execution_count": 23,
   "id": "2c0b4d74",
   "metadata": {},
   "outputs": [],
   "source": [
    "q1=customer_policy_details[['Annual Premium(Rs)']].quantile(0.25)\n",
    "q3=customer_policy_details[['Annual Premium(Rs)']].quantile(0.75)"
   ]
  },
  {
   "cell_type": "code",
   "execution_count": 24,
   "id": "78dda015",
   "metadata": {},
   "outputs": [],
   "source": [
    "iqr=q3-q1"
   ]
  },
  {
   "cell_type": "code",
   "execution_count": 25,
   "id": "aba9d9e2",
   "metadata": {},
   "outputs": [],
   "source": [
    "l=q1-(1.5*iqr)\n",
    "u=q3+(1.5*iqr)"
   ]
  },
  {
   "cell_type": "code",
   "execution_count": 26,
   "id": "f5211a23",
   "metadata": {},
   "outputs": [
    {
     "data": {
      "text/plain": [
       "Annual Premium(Rs)    10239\n",
       "dtype: int64"
      ]
     },
     "execution_count": 26,
     "metadata": {},
     "output_type": "execute_result"
    }
   ],
   "source": [
    "((customer_policy_details[['Annual Premium(Rs)']]<l)|(customer_policy_details[['Annual Premium(Rs)']]>u)).sum()"
   ]
  },
  {
   "cell_type": "markdown",
   "id": "d948d602",
   "metadata": {},
   "source": [
    "## iii. White spaces\n",
    "\n",
    "### Remove white spaces"
   ]
  },
  {
   "cell_type": "code",
   "execution_count": 27,
   "id": "16b4602d",
   "metadata": {},
   "outputs": [
    {
     "data": {
      "text/plain": [
       "0           Male\n",
       "1           Male\n",
       "2           Male\n",
       "3           Male\n",
       "4         Female\n",
       "           ...  \n",
       "381104      Male\n",
       "381105      Male\n",
       "381106      Male\n",
       "381107    Female\n",
       "381108      Male\n",
       "Name: Gender, Length: 380723, dtype: object"
      ]
     },
     "execution_count": 27,
     "metadata": {},
     "output_type": "execute_result"
    }
   ],
   "source": [
    "customer_details['Gender'].str.strip()"
   ]
  },
  {
   "cell_type": "markdown",
   "id": "91d60c01",
   "metadata": {},
   "source": [
    "## iv. case correction(lower or upper, any one) \n",
    "\n"
   ]
  },
  {
   "cell_type": "code",
   "execution_count": 28,
   "id": "b4631c12",
   "metadata": {},
   "outputs": [
    {
     "data": {
      "text/html": [
       "<div>\n",
       "<style scoped>\n",
       "    .dataframe tbody tr th:only-of-type {\n",
       "        vertical-align: middle;\n",
       "    }\n",
       "\n",
       "    .dataframe tbody tr th {\n",
       "        vertical-align: top;\n",
       "    }\n",
       "\n",
       "    .dataframe thead th {\n",
       "        text-align: right;\n",
       "    }\n",
       "</style>\n",
       "<table border=\"1\" class=\"dataframe\">\n",
       "  <thead>\n",
       "    <tr style=\"text-align: right;\">\n",
       "      <th></th>\n",
       "      <th>Customer_Id</th>\n",
       "      <th>Gender</th>\n",
       "      <th>Age</th>\n",
       "      <th>Driving Licence Present</th>\n",
       "      <th>Region Code</th>\n",
       "      <th>Previously Insured</th>\n",
       "      <th>Vehicle Age</th>\n",
       "      <th>Vehicle Damage</th>\n",
       "    </tr>\n",
       "  </thead>\n",
       "  <tbody>\n",
       "    <tr>\n",
       "      <th>0</th>\n",
       "      <td>1.0</td>\n",
       "      <td>Male</td>\n",
       "      <td>44.0</td>\n",
       "      <td>1.0</td>\n",
       "      <td>28.0</td>\n",
       "      <td>0.0</td>\n",
       "      <td>&gt; 2 Years</td>\n",
       "      <td>Yes</td>\n",
       "    </tr>\n",
       "    <tr>\n",
       "      <th>1</th>\n",
       "      <td>2.0</td>\n",
       "      <td>Male</td>\n",
       "      <td>76.0</td>\n",
       "      <td>1.0</td>\n",
       "      <td>3.0</td>\n",
       "      <td>0.0</td>\n",
       "      <td>1-2 Year</td>\n",
       "      <td>No</td>\n",
       "    </tr>\n",
       "    <tr>\n",
       "      <th>2</th>\n",
       "      <td>3.0</td>\n",
       "      <td>Male</td>\n",
       "      <td>47.0</td>\n",
       "      <td>1.0</td>\n",
       "      <td>28.0</td>\n",
       "      <td>0.0</td>\n",
       "      <td>&gt; 2 Years</td>\n",
       "      <td>Yes</td>\n",
       "    </tr>\n",
       "    <tr>\n",
       "      <th>3</th>\n",
       "      <td>4.0</td>\n",
       "      <td>Male</td>\n",
       "      <td>21.0</td>\n",
       "      <td>1.0</td>\n",
       "      <td>11.0</td>\n",
       "      <td>1.0</td>\n",
       "      <td>&lt; 1 Year</td>\n",
       "      <td>No</td>\n",
       "    </tr>\n",
       "    <tr>\n",
       "      <th>4</th>\n",
       "      <td>5.0</td>\n",
       "      <td>Female</td>\n",
       "      <td>29.0</td>\n",
       "      <td>1.0</td>\n",
       "      <td>41.0</td>\n",
       "      <td>1.0</td>\n",
       "      <td>&lt; 1 Year</td>\n",
       "      <td>No</td>\n",
       "    </tr>\n",
       "  </tbody>\n",
       "</table>\n",
       "</div>"
      ],
      "text/plain": [
       "   Customer_Id  Gender   Age  Driving Licence Present  Region Code  \\\n",
       "0          1.0    Male  44.0                      1.0         28.0   \n",
       "1          2.0    Male  76.0                      1.0          3.0   \n",
       "2          3.0    Male  47.0                      1.0         28.0   \n",
       "3          4.0    Male  21.0                      1.0         11.0   \n",
       "4          5.0  Female  29.0                      1.0         41.0   \n",
       "\n",
       "   Previously Insured Vehicle Age Vehicle Damage  \n",
       "0                 0.0   > 2 Years            Yes  \n",
       "1                 0.0    1-2 Year             No  \n",
       "2                 0.0   > 2 Years            Yes  \n",
       "3                 1.0    < 1 Year             No  \n",
       "4                 1.0    < 1 Year             No  "
      ]
     },
     "execution_count": 28,
     "metadata": {},
     "output_type": "execute_result"
    }
   ],
   "source": [
    "customer_details.apply(lambda x: x.astype(str).str.upper())\n",
    "customer_details.head()"
   ]
  },
  {
   "cell_type": "markdown",
   "id": "5790cac2",
   "metadata": {},
   "source": [
    "## v. Convert nominal data (categorical) into dummies \n",
    "\n",
    "### for future modeling use if required"
   ]
  },
  {
   "cell_type": "code",
   "execution_count": 29,
   "id": "0dc0be4a",
   "metadata": {},
   "outputs": [],
   "source": [
    "customerdetails=pd.get_dummies(customer_details)"
   ]
  },
  {
   "cell_type": "code",
   "execution_count": 30,
   "id": "91de9e71",
   "metadata": {},
   "outputs": [
    {
     "data": {
      "text/html": [
       "<div>\n",
       "<style scoped>\n",
       "    .dataframe tbody tr th:only-of-type {\n",
       "        vertical-align: middle;\n",
       "    }\n",
       "\n",
       "    .dataframe tbody tr th {\n",
       "        vertical-align: top;\n",
       "    }\n",
       "\n",
       "    .dataframe thead th {\n",
       "        text-align: right;\n",
       "    }\n",
       "</style>\n",
       "<table border=\"1\" class=\"dataframe\">\n",
       "  <thead>\n",
       "    <tr style=\"text-align: right;\">\n",
       "      <th></th>\n",
       "      <th>Customer_Id</th>\n",
       "      <th>Age</th>\n",
       "      <th>Driving Licence Present</th>\n",
       "      <th>Region Code</th>\n",
       "      <th>Previously Insured</th>\n",
       "      <th>Gender_Female</th>\n",
       "      <th>Gender_Male</th>\n",
       "      <th>Vehicle Age_1-2 Year</th>\n",
       "      <th>Vehicle Age_&lt; 1 Year</th>\n",
       "      <th>Vehicle Age_&gt; 2 Years</th>\n",
       "      <th>Vehicle Damage_No</th>\n",
       "      <th>Vehicle Damage_Yes</th>\n",
       "    </tr>\n",
       "  </thead>\n",
       "  <tbody>\n",
       "    <tr>\n",
       "      <th>0</th>\n",
       "      <td>1.0</td>\n",
       "      <td>44.0</td>\n",
       "      <td>1.0</td>\n",
       "      <td>28.0</td>\n",
       "      <td>0.0</td>\n",
       "      <td>0</td>\n",
       "      <td>1</td>\n",
       "      <td>0</td>\n",
       "      <td>0</td>\n",
       "      <td>1</td>\n",
       "      <td>0</td>\n",
       "      <td>1</td>\n",
       "    </tr>\n",
       "    <tr>\n",
       "      <th>1</th>\n",
       "      <td>2.0</td>\n",
       "      <td>76.0</td>\n",
       "      <td>1.0</td>\n",
       "      <td>3.0</td>\n",
       "      <td>0.0</td>\n",
       "      <td>0</td>\n",
       "      <td>1</td>\n",
       "      <td>1</td>\n",
       "      <td>0</td>\n",
       "      <td>0</td>\n",
       "      <td>1</td>\n",
       "      <td>0</td>\n",
       "    </tr>\n",
       "    <tr>\n",
       "      <th>2</th>\n",
       "      <td>3.0</td>\n",
       "      <td>47.0</td>\n",
       "      <td>1.0</td>\n",
       "      <td>28.0</td>\n",
       "      <td>0.0</td>\n",
       "      <td>0</td>\n",
       "      <td>1</td>\n",
       "      <td>0</td>\n",
       "      <td>0</td>\n",
       "      <td>1</td>\n",
       "      <td>0</td>\n",
       "      <td>1</td>\n",
       "    </tr>\n",
       "    <tr>\n",
       "      <th>3</th>\n",
       "      <td>4.0</td>\n",
       "      <td>21.0</td>\n",
       "      <td>1.0</td>\n",
       "      <td>11.0</td>\n",
       "      <td>1.0</td>\n",
       "      <td>0</td>\n",
       "      <td>1</td>\n",
       "      <td>0</td>\n",
       "      <td>1</td>\n",
       "      <td>0</td>\n",
       "      <td>1</td>\n",
       "      <td>0</td>\n",
       "    </tr>\n",
       "    <tr>\n",
       "      <th>4</th>\n",
       "      <td>5.0</td>\n",
       "      <td>29.0</td>\n",
       "      <td>1.0</td>\n",
       "      <td>41.0</td>\n",
       "      <td>1.0</td>\n",
       "      <td>1</td>\n",
       "      <td>0</td>\n",
       "      <td>0</td>\n",
       "      <td>1</td>\n",
       "      <td>0</td>\n",
       "      <td>1</td>\n",
       "      <td>0</td>\n",
       "    </tr>\n",
       "  </tbody>\n",
       "</table>\n",
       "</div>"
      ],
      "text/plain": [
       "   Customer_Id   Age  Driving Licence Present  Region Code  \\\n",
       "0          1.0  44.0                      1.0         28.0   \n",
       "1          2.0  76.0                      1.0          3.0   \n",
       "2          3.0  47.0                      1.0         28.0   \n",
       "3          4.0  21.0                      1.0         11.0   \n",
       "4          5.0  29.0                      1.0         41.0   \n",
       "\n",
       "   Previously Insured  Gender_Female  Gender_Male  Vehicle Age_1-2 Year  \\\n",
       "0                 0.0              0            1                     0   \n",
       "1                 0.0              0            1                     1   \n",
       "2                 0.0              0            1                     0   \n",
       "3                 1.0              0            1                     0   \n",
       "4                 1.0              1            0                     0   \n",
       "\n",
       "   Vehicle Age_< 1 Year  Vehicle Age_> 2 Years  Vehicle Damage_No  \\\n",
       "0                     0                      1                  0   \n",
       "1                     0                      0                  1   \n",
       "2                     0                      1                  0   \n",
       "3                     1                      0                  1   \n",
       "4                     1                      0                  1   \n",
       "\n",
       "   Vehicle Damage_Yes  \n",
       "0                   1  \n",
       "1                   0  \n",
       "2                   1  \n",
       "3                   0  \n",
       "4                   0  "
      ]
     },
     "execution_count": 30,
     "metadata": {},
     "output_type": "execute_result"
    }
   ],
   "source": [
    "customerdetails.head()"
   ]
  },
  {
   "cell_type": "code",
   "execution_count": 31,
   "id": "7032d2c8",
   "metadata": {},
   "outputs": [],
   "source": [
    "customerpolicydetails=pd.get_dummies(customer_policy_details)"
   ]
  },
  {
   "cell_type": "code",
   "execution_count": 32,
   "id": "44d48831",
   "metadata": {},
   "outputs": [
    {
     "data": {
      "text/html": [
       "<div>\n",
       "<style scoped>\n",
       "    .dataframe tbody tr th:only-of-type {\n",
       "        vertical-align: middle;\n",
       "    }\n",
       "\n",
       "    .dataframe tbody tr th {\n",
       "        vertical-align: top;\n",
       "    }\n",
       "\n",
       "    .dataframe thead th {\n",
       "        text-align: right;\n",
       "    }\n",
       "</style>\n",
       "<table border=\"1\" class=\"dataframe\">\n",
       "  <thead>\n",
       "    <tr style=\"text-align: right;\">\n",
       "      <th></th>\n",
       "      <th>Customer_Id</th>\n",
       "      <th>Annual Premium(Rs)</th>\n",
       "      <th>Sales Channel Code</th>\n",
       "      <th>Vintage</th>\n",
       "      <th>Response</th>\n",
       "    </tr>\n",
       "  </thead>\n",
       "  <tbody>\n",
       "    <tr>\n",
       "      <th>0</th>\n",
       "      <td>1.0</td>\n",
       "      <td>40454.0</td>\n",
       "      <td>26.0</td>\n",
       "      <td>217.0</td>\n",
       "      <td>1.0</td>\n",
       "    </tr>\n",
       "    <tr>\n",
       "      <th>1</th>\n",
       "      <td>2.0</td>\n",
       "      <td>33536.0</td>\n",
       "      <td>26.0</td>\n",
       "      <td>183.0</td>\n",
       "      <td>0.0</td>\n",
       "    </tr>\n",
       "    <tr>\n",
       "      <th>2</th>\n",
       "      <td>3.0</td>\n",
       "      <td>38294.0</td>\n",
       "      <td>26.0</td>\n",
       "      <td>27.0</td>\n",
       "      <td>1.0</td>\n",
       "    </tr>\n",
       "    <tr>\n",
       "      <th>3</th>\n",
       "      <td>4.0</td>\n",
       "      <td>28619.0</td>\n",
       "      <td>152.0</td>\n",
       "      <td>203.0</td>\n",
       "      <td>0.0</td>\n",
       "    </tr>\n",
       "    <tr>\n",
       "      <th>4</th>\n",
       "      <td>5.0</td>\n",
       "      <td>27496.0</td>\n",
       "      <td>152.0</td>\n",
       "      <td>39.0</td>\n",
       "      <td>0.0</td>\n",
       "    </tr>\n",
       "  </tbody>\n",
       "</table>\n",
       "</div>"
      ],
      "text/plain": [
       "   Customer_Id  Annual Premium(Rs)  Sales Channel Code  Vintage  Response\n",
       "0          1.0             40454.0                26.0    217.0       1.0\n",
       "1          2.0             33536.0                26.0    183.0       0.0\n",
       "2          3.0             38294.0                26.0     27.0       1.0\n",
       "3          4.0             28619.0               152.0    203.0       0.0\n",
       "4          5.0             27496.0               152.0     39.0       0.0"
      ]
     },
     "execution_count": 32,
     "metadata": {},
     "output_type": "execute_result"
    }
   ],
   "source": [
    "customerpolicydetails.head()"
   ]
  },
  {
   "cell_type": "markdown",
   "id": "88da816b",
   "metadata": {},
   "source": [
    "## vi. Drop Duplicates (duplicated rows)\n",
    "\n"
   ]
  },
  {
   "cell_type": "code",
   "execution_count": 33,
   "id": "2a04d3eb",
   "metadata": {},
   "outputs": [
    {
     "data": {
      "text/html": [
       "<div>\n",
       "<style scoped>\n",
       "    .dataframe tbody tr th:only-of-type {\n",
       "        vertical-align: middle;\n",
       "    }\n",
       "\n",
       "    .dataframe tbody tr th {\n",
       "        vertical-align: top;\n",
       "    }\n",
       "\n",
       "    .dataframe thead th {\n",
       "        text-align: right;\n",
       "    }\n",
       "</style>\n",
       "<table border=\"1\" class=\"dataframe\">\n",
       "  <thead>\n",
       "    <tr style=\"text-align: right;\">\n",
       "      <th></th>\n",
       "      <th>Customer_Id</th>\n",
       "      <th>Age</th>\n",
       "      <th>Driving Licence Present</th>\n",
       "      <th>Region Code</th>\n",
       "      <th>Previously Insured</th>\n",
       "      <th>Gender_Female</th>\n",
       "      <th>Gender_Male</th>\n",
       "      <th>Vehicle Age_1-2 Year</th>\n",
       "      <th>Vehicle Age_&lt; 1 Year</th>\n",
       "      <th>Vehicle Age_&gt; 2 Years</th>\n",
       "      <th>Vehicle Damage_No</th>\n",
       "      <th>Vehicle Damage_Yes</th>\n",
       "    </tr>\n",
       "  </thead>\n",
       "  <tbody>\n",
       "    <tr>\n",
       "      <th>0</th>\n",
       "      <td>1.0</td>\n",
       "      <td>44.0</td>\n",
       "      <td>1.0</td>\n",
       "      <td>28.0</td>\n",
       "      <td>0.0</td>\n",
       "      <td>0</td>\n",
       "      <td>1</td>\n",
       "      <td>0</td>\n",
       "      <td>0</td>\n",
       "      <td>1</td>\n",
       "      <td>0</td>\n",
       "      <td>1</td>\n",
       "    </tr>\n",
       "    <tr>\n",
       "      <th>1</th>\n",
       "      <td>2.0</td>\n",
       "      <td>76.0</td>\n",
       "      <td>1.0</td>\n",
       "      <td>3.0</td>\n",
       "      <td>0.0</td>\n",
       "      <td>0</td>\n",
       "      <td>1</td>\n",
       "      <td>1</td>\n",
       "      <td>0</td>\n",
       "      <td>0</td>\n",
       "      <td>1</td>\n",
       "      <td>0</td>\n",
       "    </tr>\n",
       "    <tr>\n",
       "      <th>2</th>\n",
       "      <td>3.0</td>\n",
       "      <td>47.0</td>\n",
       "      <td>1.0</td>\n",
       "      <td>28.0</td>\n",
       "      <td>0.0</td>\n",
       "      <td>0</td>\n",
       "      <td>1</td>\n",
       "      <td>0</td>\n",
       "      <td>0</td>\n",
       "      <td>1</td>\n",
       "      <td>0</td>\n",
       "      <td>1</td>\n",
       "    </tr>\n",
       "    <tr>\n",
       "      <th>3</th>\n",
       "      <td>4.0</td>\n",
       "      <td>21.0</td>\n",
       "      <td>1.0</td>\n",
       "      <td>11.0</td>\n",
       "      <td>1.0</td>\n",
       "      <td>0</td>\n",
       "      <td>1</td>\n",
       "      <td>0</td>\n",
       "      <td>1</td>\n",
       "      <td>0</td>\n",
       "      <td>1</td>\n",
       "      <td>0</td>\n",
       "    </tr>\n",
       "    <tr>\n",
       "      <th>4</th>\n",
       "      <td>5.0</td>\n",
       "      <td>29.0</td>\n",
       "      <td>1.0</td>\n",
       "      <td>41.0</td>\n",
       "      <td>1.0</td>\n",
       "      <td>1</td>\n",
       "      <td>0</td>\n",
       "      <td>0</td>\n",
       "      <td>1</td>\n",
       "      <td>0</td>\n",
       "      <td>1</td>\n",
       "      <td>0</td>\n",
       "    </tr>\n",
       "  </tbody>\n",
       "</table>\n",
       "</div>"
      ],
      "text/plain": [
       "   Customer_Id   Age  Driving Licence Present  Region Code  \\\n",
       "0          1.0  44.0                      1.0         28.0   \n",
       "1          2.0  76.0                      1.0          3.0   \n",
       "2          3.0  47.0                      1.0         28.0   \n",
       "3          4.0  21.0                      1.0         11.0   \n",
       "4          5.0  29.0                      1.0         41.0   \n",
       "\n",
       "   Previously Insured  Gender_Female  Gender_Male  Vehicle Age_1-2 Year  \\\n",
       "0                 0.0              0            1                     0   \n",
       "1                 0.0              0            1                     1   \n",
       "2                 0.0              0            1                     0   \n",
       "3                 1.0              0            1                     0   \n",
       "4                 1.0              1            0                     0   \n",
       "\n",
       "   Vehicle Age_< 1 Year  Vehicle Age_> 2 Years  Vehicle Damage_No  \\\n",
       "0                     0                      1                  0   \n",
       "1                     0                      0                  1   \n",
       "2                     0                      1                  0   \n",
       "3                     1                      0                  1   \n",
       "4                     1                      0                  1   \n",
       "\n",
       "   Vehicle Damage_Yes  \n",
       "0                   1  \n",
       "1                   0  \n",
       "2                   1  \n",
       "3                   0  \n",
       "4                   0  "
      ]
     },
     "execution_count": 33,
     "metadata": {},
     "output_type": "execute_result"
    }
   ],
   "source": [
    "customerdetails.drop_duplicates().head()"
   ]
  },
  {
   "cell_type": "markdown",
   "id": "7fb3a87f",
   "metadata": {},
   "source": [
    "# 3. Create a Master table for future use. Join the customer table and customer_policy table to get a master table using customer_id in both tables.\n",
    "\n",
    "## (Hint: use pd.merge() function)"
   ]
  },
  {
   "cell_type": "code",
   "execution_count": 34,
   "id": "44dc1233",
   "metadata": {},
   "outputs": [],
   "source": [
    "master_table=pd.merge(customer_details,customer_policy_details)"
   ]
  },
  {
   "cell_type": "code",
   "execution_count": 35,
   "id": "acd8f87f",
   "metadata": {},
   "outputs": [
    {
     "data": {
      "text/html": [
       "<div>\n",
       "<style scoped>\n",
       "    .dataframe tbody tr th:only-of-type {\n",
       "        vertical-align: middle;\n",
       "    }\n",
       "\n",
       "    .dataframe tbody tr th {\n",
       "        vertical-align: top;\n",
       "    }\n",
       "\n",
       "    .dataframe thead th {\n",
       "        text-align: right;\n",
       "    }\n",
       "</style>\n",
       "<table border=\"1\" class=\"dataframe\">\n",
       "  <thead>\n",
       "    <tr style=\"text-align: right;\">\n",
       "      <th></th>\n",
       "      <th>Customer_Id</th>\n",
       "      <th>Gender</th>\n",
       "      <th>Age</th>\n",
       "      <th>Driving Licence Present</th>\n",
       "      <th>Region Code</th>\n",
       "      <th>Previously Insured</th>\n",
       "      <th>Vehicle Age</th>\n",
       "      <th>Vehicle Damage</th>\n",
       "      <th>Annual Premium(Rs)</th>\n",
       "      <th>Sales Channel Code</th>\n",
       "      <th>Vintage</th>\n",
       "      <th>Response</th>\n",
       "    </tr>\n",
       "  </thead>\n",
       "  <tbody>\n",
       "    <tr>\n",
       "      <th>0</th>\n",
       "      <td>1.0</td>\n",
       "      <td>Male</td>\n",
       "      <td>44</td>\n",
       "      <td>1.0</td>\n",
       "      <td>28.0</td>\n",
       "      <td>0.0</td>\n",
       "      <td>&gt; 2 Years</td>\n",
       "      <td>Yes</td>\n",
       "      <td>40454.0</td>\n",
       "      <td>26.0</td>\n",
       "      <td>217.0</td>\n",
       "      <td>1.0</td>\n",
       "    </tr>\n",
       "    <tr>\n",
       "      <th>1</th>\n",
       "      <td>2.0</td>\n",
       "      <td>Male</td>\n",
       "      <td>76</td>\n",
       "      <td>1.0</td>\n",
       "      <td>3.0</td>\n",
       "      <td>0.0</td>\n",
       "      <td>1-2 Year</td>\n",
       "      <td>No</td>\n",
       "      <td>33536.0</td>\n",
       "      <td>26.0</td>\n",
       "      <td>183.0</td>\n",
       "      <td>0.0</td>\n",
       "    </tr>\n",
       "    <tr>\n",
       "      <th>2</th>\n",
       "      <td>3.0</td>\n",
       "      <td>Male</td>\n",
       "      <td>47</td>\n",
       "      <td>1.0</td>\n",
       "      <td>28.0</td>\n",
       "      <td>0.0</td>\n",
       "      <td>&gt; 2 Years</td>\n",
       "      <td>Yes</td>\n",
       "      <td>38294.0</td>\n",
       "      <td>26.0</td>\n",
       "      <td>27.0</td>\n",
       "      <td>1.0</td>\n",
       "    </tr>\n",
       "    <tr>\n",
       "      <th>3</th>\n",
       "      <td>4.0</td>\n",
       "      <td>Male</td>\n",
       "      <td>21</td>\n",
       "      <td>1.0</td>\n",
       "      <td>11.0</td>\n",
       "      <td>1.0</td>\n",
       "      <td>&lt; 1 Year</td>\n",
       "      <td>No</td>\n",
       "      <td>28619.0</td>\n",
       "      <td>152.0</td>\n",
       "      <td>203.0</td>\n",
       "      <td>0.0</td>\n",
       "    </tr>\n",
       "    <tr>\n",
       "      <th>4</th>\n",
       "      <td>5.0</td>\n",
       "      <td>Female</td>\n",
       "      <td>29</td>\n",
       "      <td>1.0</td>\n",
       "      <td>41.0</td>\n",
       "      <td>1.0</td>\n",
       "      <td>&lt; 1 Year</td>\n",
       "      <td>No</td>\n",
       "      <td>27496.0</td>\n",
       "      <td>152.0</td>\n",
       "      <td>39.0</td>\n",
       "      <td>0.0</td>\n",
       "    </tr>\n",
       "  </tbody>\n",
       "</table>\n",
       "</div>"
      ],
      "text/plain": [
       "   Customer_Id  Gender  Age  Driving Licence Present  Region Code  \\\n",
       "0          1.0    Male   44                      1.0         28.0   \n",
       "1          2.0    Male   76                      1.0          3.0   \n",
       "2          3.0    Male   47                      1.0         28.0   \n",
       "3          4.0    Male   21                      1.0         11.0   \n",
       "4          5.0  Female   29                      1.0         41.0   \n",
       "\n",
       "   Previously Insured Vehicle Age Vehicle Damage  Annual Premium(Rs)  \\\n",
       "0                 0.0   > 2 Years            Yes             40454.0   \n",
       "1                 0.0    1-2 Year             No             33536.0   \n",
       "2                 0.0   > 2 Years            Yes             38294.0   \n",
       "3                 1.0    < 1 Year             No             28619.0   \n",
       "4                 1.0    < 1 Year             No             27496.0   \n",
       "\n",
       "   Sales Channel Code  Vintage  Response  \n",
       "0                26.0    217.0       1.0  \n",
       "1                26.0    183.0       0.0  \n",
       "2                26.0     27.0       1.0  \n",
       "3               152.0    203.0       0.0  \n",
       "4               152.0     39.0       0.0  "
      ]
     },
     "execution_count": 35,
     "metadata": {},
     "output_type": "execute_result"
    }
   ],
   "source": [
    "master_table['Age']=master_table['Age'].astype('int')\n",
    "master_table.head()"
   ]
  },
  {
   "cell_type": "markdown",
   "id": "eb69f778",
   "metadata": {},
   "source": [
    "# 4. Company needs some important information from the master table to make decisions for future growth.They needs following information:\n",
    "\n",
    "## i. Gender wise average annual premium\n",
    "\n",
    "\n",
    "\n"
   ]
  },
  {
   "cell_type": "code",
   "execution_count": 36,
   "id": "2dedcadf",
   "metadata": {},
   "outputs": [
    {
     "data": {
      "text/plain": [
       "Gender\n",
       "Female    30505.151882\n",
       "Male      30635.409127\n",
       "Name: Annual Premium(Rs), dtype: float64"
      ]
     },
     "execution_count": 36,
     "metadata": {},
     "output_type": "execute_result"
    }
   ],
   "source": [
    "master_table.groupby(['Gender'])['Annual Premium(Rs)'].mean()"
   ]
  },
  {
   "cell_type": "markdown",
   "id": "17c83ed5",
   "metadata": {},
   "source": [
    "## ii. Age wise average annual premium\n",
    "\n",
    "\n",
    "\n"
   ]
  },
  {
   "cell_type": "code",
   "execution_count": 37,
   "id": "6dfc6955",
   "metadata": {},
   "outputs": [
    {
     "data": {
      "text/plain": [
       "Age\n",
       "20    26940.061164\n",
       "21    30573.665891\n",
       "22    30837.557285\n",
       "23    30698.806695\n",
       "24    31200.619093\n",
       "          ...     \n",
       "81    31201.571429\n",
       "82    37705.379310\n",
       "83    31012.727273\n",
       "84    35440.818182\n",
       "85    29792.363636\n",
       "Name: Annual Premium(Rs), Length: 66, dtype: float64"
      ]
     },
     "execution_count": 37,
     "metadata": {},
     "output_type": "execute_result"
    }
   ],
   "source": [
    "master_table.groupby(['Age'])['Annual Premium(Rs)'].mean()\n"
   ]
  },
  {
   "cell_type": "markdown",
   "id": "0d03b51f",
   "metadata": {},
   "source": [
    "## iii. Is your data balanced between the genders?\n",
    "\n",
    "### (Hint: Data is balanced if number of counts in each group is approximately same)"
   ]
  },
  {
   "cell_type": "code",
   "execution_count": 38,
   "id": "c1b75783",
   "metadata": {},
   "outputs": [
    {
     "data": {
      "text/plain": [
       "Male      205851\n",
       "Female    174485\n",
       "Name: Gender, dtype: int64"
      ]
     },
     "execution_count": 38,
     "metadata": {},
     "output_type": "execute_result"
    }
   ],
   "source": [
    "master_table['Gender'].value_counts()"
   ]
  },
  {
   "cell_type": "markdown",
   "id": "1acc5859",
   "metadata": {},
   "source": [
    "## iv. Vehicle age wise average annual premium."
   ]
  },
  {
   "cell_type": "code",
   "execution_count": 39,
   "id": "f151116f",
   "metadata": {},
   "outputs": [
    {
     "data": {
      "text/plain": [
       "Vehicle Age\n",
       "1-2 Year     30538.472949\n",
       "< 1 Year     30126.565208\n",
       "> 2 Years    35667.836135\n",
       "Name: Annual Premium(Rs), dtype: float64"
      ]
     },
     "execution_count": 39,
     "metadata": {},
     "output_type": "execute_result"
    }
   ],
   "source": [
    "master_table.groupby(['Vehicle Age'])['Annual Premium(Rs)'].mean()"
   ]
  },
  {
   "cell_type": "markdown",
   "id": "734917d5",
   "metadata": {},
   "source": [
    "# 5. Is there any relation between Person Age and annual premium?\n",
    "\n",
    "## Hint: use correlation function (Correlation describes the relationship between two variables). \n",
    "\n",
    "### Correlation coefficient < -0.5           - Strong negative relationship\n",
    "\n",
    "### Correlation coefficient > 0.5            -  Strong positive relationship\n",
    "\n",
    "### 0.5 < Correlation coefficient < 0.5   - There is no relationship. "
   ]
  },
  {
   "cell_type": "code",
   "execution_count": 40,
   "id": "c38adc78",
   "metadata": {},
   "outputs": [
    {
     "data": {
      "text/html": [
       "<div>\n",
       "<style scoped>\n",
       "    .dataframe tbody tr th:only-of-type {\n",
       "        vertical-align: middle;\n",
       "    }\n",
       "\n",
       "    .dataframe tbody tr th {\n",
       "        vertical-align: top;\n",
       "    }\n",
       "\n",
       "    .dataframe thead th {\n",
       "        text-align: right;\n",
       "    }\n",
       "</style>\n",
       "<table border=\"1\" class=\"dataframe\">\n",
       "  <thead>\n",
       "    <tr style=\"text-align: right;\">\n",
       "      <th></th>\n",
       "      <th>Customer_Id</th>\n",
       "      <th>Age</th>\n",
       "      <th>Driving Licence Present</th>\n",
       "      <th>Region Code</th>\n",
       "      <th>Previously Insured</th>\n",
       "      <th>Annual Premium(Rs)</th>\n",
       "      <th>Sales Channel Code</th>\n",
       "      <th>Vintage</th>\n",
       "      <th>Response</th>\n",
       "    </tr>\n",
       "  </thead>\n",
       "  <tbody>\n",
       "    <tr>\n",
       "      <th>Customer_Id</th>\n",
       "      <td>1.000000</td>\n",
       "      <td>0.001764</td>\n",
       "      <td>-0.000476</td>\n",
       "      <td>-0.000727</td>\n",
       "      <td>0.002464</td>\n",
       "      <td>0.003068</td>\n",
       "      <td>-0.001465</td>\n",
       "      <td>0.000826</td>\n",
       "      <td>0.000939</td>\n",
       "    </tr>\n",
       "    <tr>\n",
       "      <th>Age</th>\n",
       "      <td>0.001764</td>\n",
       "      <td>1.000000</td>\n",
       "      <td>-0.079523</td>\n",
       "      <td>0.042538</td>\n",
       "      <td>-0.254211</td>\n",
       "      <td>0.067695</td>\n",
       "      <td>-0.023459</td>\n",
       "      <td>-0.000098</td>\n",
       "      <td>-0.001318</td>\n",
       "    </tr>\n",
       "    <tr>\n",
       "      <th>Driving Licence Present</th>\n",
       "      <td>-0.000476</td>\n",
       "      <td>-0.079523</td>\n",
       "      <td>1.000000</td>\n",
       "      <td>-0.001063</td>\n",
       "      <td>0.014905</td>\n",
       "      <td>-0.012062</td>\n",
       "      <td>0.003157</td>\n",
       "      <td>-0.000358</td>\n",
       "      <td>-0.002282</td>\n",
       "    </tr>\n",
       "    <tr>\n",
       "      <th>Region Code</th>\n",
       "      <td>-0.000727</td>\n",
       "      <td>0.042538</td>\n",
       "      <td>-0.001063</td>\n",
       "      <td>1.000000</td>\n",
       "      <td>-0.024625</td>\n",
       "      <td>-0.010629</td>\n",
       "      <td>-0.004257</td>\n",
       "      <td>0.001716</td>\n",
       "      <td>0.001691</td>\n",
       "    </tr>\n",
       "    <tr>\n",
       "      <th>Previously Insured</th>\n",
       "      <td>0.002464</td>\n",
       "      <td>-0.254211</td>\n",
       "      <td>0.014905</td>\n",
       "      <td>-0.024625</td>\n",
       "      <td>1.000000</td>\n",
       "      <td>0.004454</td>\n",
       "      <td>0.007695</td>\n",
       "      <td>-0.001117</td>\n",
       "      <td>0.000293</td>\n",
       "    </tr>\n",
       "    <tr>\n",
       "      <th>Annual Premium(Rs)</th>\n",
       "      <td>0.003068</td>\n",
       "      <td>0.067695</td>\n",
       "      <td>-0.012062</td>\n",
       "      <td>-0.010629</td>\n",
       "      <td>0.004454</td>\n",
       "      <td>1.000000</td>\n",
       "      <td>-0.004937</td>\n",
       "      <td>0.001383</td>\n",
       "      <td>-0.002410</td>\n",
       "    </tr>\n",
       "    <tr>\n",
       "      <th>Sales Channel Code</th>\n",
       "      <td>-0.001465</td>\n",
       "      <td>-0.023459</td>\n",
       "      <td>0.003157</td>\n",
       "      <td>-0.004257</td>\n",
       "      <td>0.007695</td>\n",
       "      <td>-0.004937</td>\n",
       "      <td>1.000000</td>\n",
       "      <td>0.001736</td>\n",
       "      <td>-0.000984</td>\n",
       "    </tr>\n",
       "    <tr>\n",
       "      <th>Vintage</th>\n",
       "      <td>0.000826</td>\n",
       "      <td>-0.000098</td>\n",
       "      <td>-0.000358</td>\n",
       "      <td>0.001716</td>\n",
       "      <td>-0.001117</td>\n",
       "      <td>0.001383</td>\n",
       "      <td>0.001736</td>\n",
       "      <td>1.000000</td>\n",
       "      <td>-0.001021</td>\n",
       "    </tr>\n",
       "    <tr>\n",
       "      <th>Response</th>\n",
       "      <td>0.000939</td>\n",
       "      <td>-0.001318</td>\n",
       "      <td>-0.002282</td>\n",
       "      <td>0.001691</td>\n",
       "      <td>0.000293</td>\n",
       "      <td>-0.002410</td>\n",
       "      <td>-0.000984</td>\n",
       "      <td>-0.001021</td>\n",
       "      <td>1.000000</td>\n",
       "    </tr>\n",
       "  </tbody>\n",
       "</table>\n",
       "</div>"
      ],
      "text/plain": [
       "                         Customer_Id       Age  Driving Licence Present  \\\n",
       "Customer_Id                 1.000000  0.001764                -0.000476   \n",
       "Age                         0.001764  1.000000                -0.079523   \n",
       "Driving Licence Present    -0.000476 -0.079523                 1.000000   \n",
       "Region Code                -0.000727  0.042538                -0.001063   \n",
       "Previously Insured          0.002464 -0.254211                 0.014905   \n",
       "Annual Premium(Rs)          0.003068  0.067695                -0.012062   \n",
       "Sales Channel Code         -0.001465 -0.023459                 0.003157   \n",
       "Vintage                     0.000826 -0.000098                -0.000358   \n",
       "Response                    0.000939 -0.001318                -0.002282   \n",
       "\n",
       "                         Region Code  Previously Insured  Annual Premium(Rs)  \\\n",
       "Customer_Id                -0.000727            0.002464            0.003068   \n",
       "Age                         0.042538           -0.254211            0.067695   \n",
       "Driving Licence Present    -0.001063            0.014905           -0.012062   \n",
       "Region Code                 1.000000           -0.024625           -0.010629   \n",
       "Previously Insured         -0.024625            1.000000            0.004454   \n",
       "Annual Premium(Rs)         -0.010629            0.004454            1.000000   \n",
       "Sales Channel Code         -0.004257            0.007695           -0.004937   \n",
       "Vintage                     0.001716           -0.001117            0.001383   \n",
       "Response                    0.001691            0.000293           -0.002410   \n",
       "\n",
       "                         Sales Channel Code   Vintage  Response  \n",
       "Customer_Id                       -0.001465  0.000826  0.000939  \n",
       "Age                               -0.023459 -0.000098 -0.001318  \n",
       "Driving Licence Present            0.003157 -0.000358 -0.002282  \n",
       "Region Code                       -0.004257  0.001716  0.001691  \n",
       "Previously Insured                 0.007695 -0.001117  0.000293  \n",
       "Annual Premium(Rs)                -0.004937  0.001383 -0.002410  \n",
       "Sales Channel Code                 1.000000  0.001736 -0.000984  \n",
       "Vintage                            0.001736  1.000000 -0.001021  \n",
       "Response                          -0.000984 -0.001021  1.000000  "
      ]
     },
     "execution_count": 40,
     "metadata": {},
     "output_type": "execute_result"
    }
   ],
   "source": [
    "master_table.corr()"
   ]
  },
  {
   "cell_type": "code",
   "execution_count": 41,
   "id": "a9abee62",
   "metadata": {},
   "outputs": [
    {
     "data": {
      "text/plain": [
       "array([[1.        , 0.06769523],\n",
       "       [0.06769523, 1.        ]])"
      ]
     },
     "execution_count": 41,
     "metadata": {},
     "output_type": "execute_result"
    }
   ],
   "source": [
    "np.corrcoef(master_table['Age'],master_table['Annual Premium(Rs)'])  "
   ]
  },
  {
   "cell_type": "code",
   "execution_count": null,
   "id": "2288dbe6",
   "metadata": {},
   "outputs": [],
   "source": []
  }
 ],
 "metadata": {
  "kernelspec": {
   "display_name": "Python 3 (ipykernel)",
   "language": "python",
   "name": "python3"
  },
  "language_info": {
   "codemirror_mode": {
    "name": "ipython",
    "version": 3
   },
   "file_extension": ".py",
   "mimetype": "text/x-python",
   "name": "python",
   "nbconvert_exporter": "python",
   "pygments_lexer": "ipython3",
   "version": "3.9.13"
  },
  "vscode": {
   "interpreter": {
    "hash": "d4c460643b00d9944256cc31a7e3b51d1ddec7ae66d715b6b8e685c5fcff555e"
   }
  }
 },
 "nbformat": 4,
 "nbformat_minor": 5
}
